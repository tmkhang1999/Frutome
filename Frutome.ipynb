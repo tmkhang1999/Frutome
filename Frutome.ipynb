{
  "nbformat": 4,
  "nbformat_minor": 0,
  "metadata": {
    "colab": {
      "provenance": [],
      "toc_visible": true,
      "authorship_tag": "ABX9TyNC/RPOYIIRlNfYg5CI13mT",
      "include_colab_link": true
    },
    "kernelspec": {
      "name": "python3",
      "display_name": "Python 3"
    },
    "language_info": {
      "name": "python"
    }
  },
  "cells": [
    {
      "cell_type": "markdown",
      "metadata": {
        "id": "view-in-github",
        "colab_type": "text"
      },
      "source": [
        "<a href=\"https://colab.research.google.com/github/tmkhang1999/Frutome/blob/main/Frutome.ipynb\" target=\"_parent\"><img src=\"https://colab.research.google.com/assets/colab-badge.svg\" alt=\"Open In Colab\"/></a>"
      ]
    },
    {
      "cell_type": "code",
      "source": [
        "!pip install requests_html"
      ],
      "metadata": {
        "id": "27mbv2Mlvf_H"
      },
      "execution_count": null,
      "outputs": []
    },
    {
      "cell_type": "code",
      "source": [
        "from requests_html import HTMLSession\n",
        "from bs4 import BeautifulSoup\n",
        "import pandas as pd\n",
        "import re\n",
        "\n",
        "session = HTMLSession()\n",
        "\n",
        "def make_clickable(val):\n",
        "    return '<a target=\"_blank\" href=\"{}\">{}</a>'.format(val, val)\n",
        "\n",
        "def scrape_google(keyword, length, language='en'):\n",
        "    # Set up the search URL\n",
        "    url = f\"https://www.google.com/search?q={keyword}&num={length}&hl={language}\"\n",
        "    res = session.get(url)\n",
        "    \n",
        "    # Parse the HTML response with BeautifulSoup\n",
        "    soup = BeautifulSoup(res.text, 'html.parser')\n",
        "    \n",
        "    # Extract the search result items\n",
        "    search_results = soup.find_all('div', {'class': 'kvH3mc'})\n",
        "    \n",
        "    # Create an empty Pandas dataframe to store the results\n",
        "    results_df = pd.DataFrame(columns=['Link', 'Title', 'Description', 'Bold'])\n",
        "    \n",
        "    # Loop through the search results and extract the relevant information\n",
        "    for res in search_results:\n",
        "        # Extract the title, link, text, and bold text\n",
        "        title = res.select_one('h3').get_text() if res.select_one('h3') else None\n",
        "        link = res.select_one('.yuRUbf a')['href'] if res.select_one('.yuRUbf a') else None\n",
        "        des = res.select_one('.VwiC3b').get_text() if res.select_one('.VwiC3b') else None\n",
        "        bold = res.select_one('.VwiC3b span em').get_text() if res.select_one('.VwiC3b span em') else None\n",
        "\n",
        "        # Add the result to the Pandas dataframe\n",
        "        row_dict = pd.DataFrame({'Link': [link], 'Title': [title], 'Description': [des], 'Bold': [bold]})\n",
        "        results_df = pd.concat((results_df, row_dict), ignore_index=True)\n",
        "\n",
        "    # make clickable hyperlinks and style the link column\n",
        "    results_df = results_df.style.format({'Link': make_clickable})\n",
        "    results_df.set_properties(subset=['Link'], **{'font-size': '11px', 'word-wrap': 'break-word', 'max-width': '200px'})\n",
        "  \n",
        "    # Return the Pandas dataframe\n",
        "    return results_df"
      ],
      "metadata": {
        "id": "kkcCbi66KXwX"
      },
      "execution_count": 39,
      "outputs": []
    },
    {
      "cell_type": "code",
      "source": [
        "df = scrape_google('rebate realtor in denver', 10)"
      ],
      "metadata": {
        "id": "_bDgwXOxKbQn"
      },
      "execution_count": 40,
      "outputs": []
    },
    {
      "cell_type": "code",
      "source": [
        "df"
      ],
      "metadata": {
        "colab": {
          "base_uri": "https://localhost:8080/",
          "height": 540
        },
        "id": "SHsMO0oVKUUg",
        "outputId": "90423542-a534-4568-98dd-b9ca805e785f"
      },
      "execution_count": 41,
      "outputs": [
        {
          "output_type": "execute_result",
          "data": {
            "text/plain": [
              "<pandas.io.formats.style.Styler at 0x7f7793eb4130>"
            ],
            "text/html": [
              "<style type=\"text/css\">\n",
              "#T_ac602_row0_col0, #T_ac602_row1_col0, #T_ac602_row2_col0, #T_ac602_row3_col0, #T_ac602_row4_col0, #T_ac602_row5_col0, #T_ac602_row6_col0, #T_ac602_row7_col0, #T_ac602_row8_col0, #T_ac602_row9_col0 {\n",
              "  font-size: 11px;\n",
              "  word-wrap: break-word;\n",
              "  max-width: 200px;\n",
              "}\n",
              "</style>\n",
              "<table id=\"T_ac602\" class=\"dataframe\">\n",
              "  <thead>\n",
              "    <tr>\n",
              "      <th class=\"blank level0\" >&nbsp;</th>\n",
              "      <th id=\"T_ac602_level0_col0\" class=\"col_heading level0 col0\" >Link</th>\n",
              "      <th id=\"T_ac602_level0_col1\" class=\"col_heading level0 col1\" >Title</th>\n",
              "      <th id=\"T_ac602_level0_col2\" class=\"col_heading level0 col2\" >Description</th>\n",
              "      <th id=\"T_ac602_level0_col3\" class=\"col_heading level0 col3\" >Bold</th>\n",
              "    </tr>\n",
              "  </thead>\n",
              "  <tbody>\n",
              "    <tr>\n",
              "      <th id=\"T_ac602_level0_row0\" class=\"row_heading level0 row0\" >0</th>\n",
              "      <td id=\"T_ac602_row0_col0\" class=\"data row0 col0\" ><a target=\"_blank\" href=\"https://www.prevu.com/blog/commission-rebate-denver\">https://www.prevu.com/blog/commission-rebate-denver</a></td>\n",
              "      <td id=\"T_ac602_row0_col1\" class=\"data row0 col1\" >What are Buyer Commission Rebates in Denver?</td>\n",
              "      <td id=\"T_ac602_row0_col2\" class=\"data row0 col2\" >Oct 8, 2022 — Prevu offers the largest commission rebate in Colorado, allowing buyers to receive a homebuyer rebate of up to 2% of the sale price of a home.</td>\n",
              "      <td id=\"T_ac602_row0_col3\" class=\"data row0 col3\" >rebate</td>\n",
              "    </tr>\n",
              "    <tr>\n",
              "      <th id=\"T_ac602_level0_row1\" class=\"row_heading level0 row1\" >1</th>\n",
              "      <td id=\"T_ac602_row1_col0\" class=\"data row1 col0\" ><a target=\"_blank\" href=\"https://www.hqhomesales.com/home-buyer-commission-rebate-denver-colorado\">https://www.hqhomesales.com/home-buyer-commission-rebate-denver-colorado</a></td>\n",
              "      <td id=\"T_ac602_row1_col1\" class=\"data row1 col1\" >Denver, CO Home Buyer 50% Commission Rebate | HQ Homes</td>\n",
              "      <td id=\"T_ac602_row1_col2\" class=\"data row1 col2\" >HQ Homes Flat Fee Realty offers home buyers a generous Buyers Agent Commission Rebate of up to 50% of the buyers agent commission (this equals up to 1.5% of the ...</td>\n",
              "      <td id=\"T_ac602_row1_col3\" class=\"data row1 col3\" >Homes</td>\n",
              "    </tr>\n",
              "    <tr>\n",
              "      <th id=\"T_ac602_level0_row2\" class=\"row_heading level0 row2\" >2</th>\n",
              "      <td id=\"T_ac602_row2_col0\" class=\"data row2 col0\" ><a target=\"_blank\" href=\"https://www.houzeo.com/blog/discount-real-estate-brokers-in-denver/\">https://www.houzeo.com/blog/discount-real-estate-brokers-in-denver/</a></td>\n",
              "      <td id=\"T_ac602_row2_col1\" class=\"data row2 col1\" >Best Discount Real Estate Brokers in Denver, CO</td>\n",
              "      <td id=\"T_ac602_row2_col2\" class=\"data row2 col2\" >Feb 27, 2023 — Rankings: Best Discount Real Estate Brokers in Denver, CO ; 1. Houzeo, $349. Flat Fee ; 2. Fixed Rate Real Estate, $5000. Flat Fee ; 3. HQ Homes, 1 ...</td>\n",
              "      <td id=\"T_ac602_row2_col3\" class=\"data row2 col3\" >Discount Real Estate Brokers in Denver</td>\n",
              "    </tr>\n",
              "    <tr>\n",
              "      <th id=\"T_ac602_level0_row3\" class=\"row_heading level0 row3\" >3</th>\n",
              "      <td id=\"T_ac602_row3_col0\" class=\"data row3 col0\" ><a target=\"_blank\" href=\"https://www.discount-realtor.com/co/denver/\">https://www.discount-realtor.com/co/denver/</a></td>\n",
              "      <td id=\"T_ac602_row3_col1\" class=\"data row3 col1\" >Real Estate Discounts & Rebates | Denver DISCOUNT ...</td>\n",
              "      <td id=\"T_ac602_row3_col2\" class=\"data row3 col2\" >Denver discount real estate brokers & agents! Buyer rebates! Experienced! Full service! Put more $ in YOUR pocket! Since 1999! US-wide! DISCOUNT-REALTOR®</td>\n",
              "      <td id=\"T_ac602_row3_col3\" class=\"data row3 col3\" >Denver discount real estate brokers</td>\n",
              "    </tr>\n",
              "    <tr>\n",
              "      <th id=\"T_ac602_level0_row4\" class=\"row_heading level0 row4\" >4</th>\n",
              "      <td id=\"T_ac602_row4_col0\" class=\"data row4 col0\" ><a target=\"_blank\" href=\"https://www.caare.org/buyeragentsrebate/colorado/\">https://www.caare.org/buyeragentsrebate/colorado/</a></td>\n",
              "      <td id=\"T_ac602_row4_col1\" class=\"data row4 col1\" >Colorado – Buyer Agents Who Pay Rebates</td>\n",
              "      <td id=\"T_ac602_row4_col2\" class=\"data row4 col2\" >We will help you purchase the home you want and then provide 50% of our commission back to you as a rebate after the closing. You find the home. We close the ...</td>\n",
              "      <td id=\"T_ac602_row4_col3\" class=\"data row4 col3\" >rebate</td>\n",
              "    </tr>\n",
              "    <tr>\n",
              "      <th id=\"T_ac602_level0_row5\" class=\"row_heading level0 row5\" >5</th>\n",
              "      <td id=\"T_ac602_row5_col0\" class=\"data row5 col0\" ><a target=\"_blank\" href=\"https://www.flatfeegroup.com/Colorado/Denver/buyerrebatequestions.php\">https://www.flatfeegroup.com/Colorado/Denver/buyerrebatequestions.php</a></td>\n",
              "      <td id=\"T_ac602_row5_col1\" class=\"data row5 col1\" >Buyer Rebate Questions - Denver</td>\n",
              "      <td id=\"T_ac602_row5_col2\" class=\"data row5 col2\" >When a seller lists their home for sale with a Realtor, they usually agree to pay 6% (commission varies) at closing. Half or typically 3% goes to the listing ...</td>\n",
              "      <td id=\"T_ac602_row5_col3\" class=\"data row5 col3\" >Realtor</td>\n",
              "    </tr>\n",
              "    <tr>\n",
              "      <th id=\"T_ac602_level0_row6\" class=\"row_heading level0 row6\" >6</th>\n",
              "      <td id=\"T_ac602_row6_col0\" class=\"data row6 col0\" ><a target=\"_blank\" href=\"https://www.upnest.com/1/post/who-are-the-discount-realtors-in-denver/\">https://www.upnest.com/1/post/who-are-the-discount-realtors-in-denver/</a></td>\n",
              "      <td id=\"T_ac602_row6_col1\" class=\"data row6 col1\" >Who are the Discount Realtors in Denver?</td>\n",
              "      <td id=\"T_ac602_row6_col2\" class=\"data row6 col2\" >That commission is actually due to the listing broker. The individual Denver real estate agent cannot directly accept any money in their name. Their brokerage ...</td>\n",
              "      <td id=\"T_ac602_row6_col3\" class=\"data row6 col3\" >Denver real estate agent</td>\n",
              "    </tr>\n",
              "    <tr>\n",
              "      <th id=\"T_ac602_level0_row7\" class=\"row_heading level0 row7\" >7</th>\n",
              "      <td id=\"T_ac602_row7_col0\" class=\"data row7 col0\" ><a target=\"_blank\" href=\"https://www.upnest.com/re/home-buyer-rebates-states/co\">https://www.upnest.com/re/home-buyer-rebates-states/co</a></td>\n",
              "      <td id=\"T_ac602_row7_col1\" class=\"data row7 col1\" >Colorado Buyer Rebates | Save Money When Buying in ...</td>\n",
              "      <td id=\"T_ac602_row7_col2\" class=\"data row7 col2\" >When you buy with UpNest, you'll receive a $150 Amazon e-card plus a commission rebate from your agent where applicable, often 20-30% of the agent commission.</td>\n",
              "      <td id=\"T_ac602_row7_col3\" class=\"data row7 col3\" >rebate</td>\n",
              "    </tr>\n",
              "    <tr>\n",
              "      <th id=\"T_ac602_level0_row8\" class=\"row_heading level0 row8\" >8</th>\n",
              "      <td id=\"T_ac602_row8_col0\" class=\"data row8 col0\" ><a target=\"_blank\" href=\"https://coloradocommissionrebate.com/\">https://coloradocommissionrebate.com/</a></td>\n",
              "      <td id=\"T_ac602_row8_col1\" class=\"data row8 col1\" >Colorado Commission Rebate: Looking to buy a home ...</td>\n",
              "      <td id=\"T_ac602_row8_col2\" class=\"data row8 col2\" >Colorado Commission Rebate is the best Colorado based real estate agents since 2009. We help you Buy your new home at discounted prices by offering you a ...</td>\n",
              "      <td id=\"T_ac602_row8_col3\" class=\"data row8 col3\" >Rebate</td>\n",
              "    </tr>\n",
              "    <tr>\n",
              "      <th id=\"T_ac602_level0_row9\" class=\"row_heading level0 row9\" >9</th>\n",
              "      <td id=\"T_ac602_row9_col0\" class=\"data row9 col0\" ><a target=\"_blank\" href=\"https://michaelborgelt.com/denver-real-estate-commission-refund/\">https://michaelborgelt.com/denver-real-estate-commission-refund/</a></td>\n",
              "      <td id=\"T_ac602_row9_col1\" class=\"data row9 col1\" >1/2 Back – Denver Real Estate - Michael Borgelt</td>\n",
              "      <td id=\"T_ac602_row9_col2\" class=\"data row9 col2\" >Home Buyers. The Old Way When you buy a home the seller is responsible for paying your realtor. But, that fee is baked in the purchase price, ...</td>\n",
              "      <td id=\"T_ac602_row9_col3\" class=\"data row9 col3\" >realtor</td>\n",
              "    </tr>\n",
              "  </tbody>\n",
              "</table>\n"
            ]
          },
          "metadata": {},
          "execution_count": 41
        }
      ]
    }
  ]
}